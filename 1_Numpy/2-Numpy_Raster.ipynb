{
 "cells": [
  {
   "cell_type": "markdown",
   "metadata": {},
   "source": [
    "## Using NumPy with Raster data"
   ]
  },
  {
   "cell_type": "code",
   "execution_count": null,
   "metadata": {},
   "outputs": [],
   "source": [
    "#Import numpy\n",
    "import numpy as np\n",
    "from matplotlib import pyplot as plt\n",
    "%matplotlib inline"
   ]
  },
  {
   "cell_type": "markdown",
   "metadata": {},
   "source": [
    "### Using GDAL to import TIFs as NumPy arrays\n",
    "GDAL is a spatial data analysis engine, an open source alternative to using ESRI's proprietary ArcPy package. If you are curious, the University of Helsinki has a nice lesson on analyzing raster data with GDAL and Numpy available [here](https://automating-gis-processes.github.io/2016/Lesson7-overview.html). \n",
    "\n",
    "Below we navigate through a few new steps using GDAL and NumPy, but also lean on many of the concepts we've covered in our NumPy lessons."
   ]
  },
  {
   "cell_type": "code",
   "execution_count": null,
   "metadata": {},
   "outputs": [],
   "source": [
    "## This code cell imports the GDAL package and uses it ot import a raster of \n",
    "## precipitation data for Washington state. It then converts the GDAL dataset \n",
    "## into a NumPy array for us to play with\n",
    "\n",
    "#Create the output TIF object and set its properties\n",
    "import gdal\n",
    "\n",
    "#Get projection info from the input raster\n",
    "ds = gdal.Open('../data/prism_precipitation_july_climatology.tif')\n",
    "print(f'ds is a {type(ds)} object')\n",
    "\n",
    "#Convert to a NumPy array\n",
    "arr_precip = np.array(ds.GetRasterBand(1).ReadAsArray())\n",
    "print(f'arr_precip is a {type(arr_precip)} object')"
   ]
  },
  {
   "cell_type": "markdown",
   "metadata": {},
   "source": [
    "Now that we have a NumPy array, we can explore the dataset."
   ]
  },
  {
   "cell_type": "code",
   "execution_count": null,
   "metadata": {},
   "outputs": [],
   "source": [
    "#1. Display the shape of the array\n",
    "arr_precip."
   ]
  },
  {
   "cell_type": "code",
   "execution_count": null,
   "metadata": {},
   "outputs": [],
   "source": [
    "#2. Display the data type of the values in the array\n",
    "arr_precip."
   ]
  },
  {
   "cell_type": "code",
   "execution_count": null,
   "metadata": {},
   "outputs": [],
   "source": [
    "#3. What is the minimum value of this array\n",
    "arr_precip."
   ]
  },
  {
   "cell_type": "code",
   "execution_count": null,
   "metadata": {},
   "outputs": [],
   "source": [
    "#4. Plot the array\n",
    "plt.imshow(arr_precip);"
   ]
  },
  {
   "cell_type": "markdown",
   "metadata": {},
   "source": [
    "### Masking NoData values\n",
    "Values of -9999 are actually NoData values. The statement below creates a \"masked array\" where these values are masked out. "
   ]
  },
  {
   "cell_type": "code",
   "execution_count": null,
   "metadata": {},
   "outputs": [],
   "source": [
    "#Mask out -9999 values\n",
    "arr_precip_masked = np.ma.masked_equal(arr_precip, -9999)"
   ]
  },
  {
   "cell_type": "code",
   "execution_count": null,
   "metadata": {},
   "outputs": [],
   "source": [
    "#5. Now, what is the minimum value, the mean value, the max value\n",
    "(arr_precip_masked.\n",
    " arr_precip_masked.\n",
    " arr_precip_masked.)  "
   ]
  },
  {
   "cell_type": "code",
   "execution_count": null,
   "metadata": {},
   "outputs": [],
   "source": [
    "#6. Display the masked array\n",
    "plt.imshow();"
   ]
  },
  {
   "cell_type": "markdown",
   "metadata": {},
   "source": [
    "#### Subset the data, then compute statistics and histogram\n",
    "Here, we'll subset the Olympic Peninsula, defined as the pixels in rows zero to 50 and columns from zero to 50 [from the masked array]. And then we'll examine data in just those pixels."
   ]
  },
  {
   "cell_type": "code",
   "execution_count": null,
   "metadata": {},
   "outputs": [],
   "source": [
    "#7. Subset rows 0 to 100 & columns 0 to 100\n",
    "arr_OP = "
   ]
  },
  {
   "cell_type": "code",
   "execution_count": null,
   "metadata": {},
   "outputs": [],
   "source": [
    "#8. Flatten the sample and create a histogram\n",
    "arr_OP_flat = \n",
    "arr_OP_flat.shape"
   ]
  },
  {
   "cell_type": "code",
   "execution_count": null,
   "metadata": {},
   "outputs": [],
   "source": [
    "#9. Plot a histogram of the flattened array\n"
   ]
  },
  {
   "cell_type": "code",
   "execution_count": null,
   "metadata": {},
   "outputs": [],
   "source": [
    "#10. Plot the array of the Olypmic Peninsula\n"
   ]
  },
  {
   "cell_type": "markdown",
   "metadata": {},
   "source": [
    "What is the mean value of data in the Olympic peninsula?"
   ]
  },
  {
   "cell_type": "code",
   "execution_count": null,
   "metadata": {},
   "outputs": [],
   "source": [
    "#11. Report the mean value of the array\n",
    "meanVal = \n",
    "meanVal"
   ]
  },
  {
   "cell_type": "markdown",
   "metadata": {},
   "source": [
    "**Challenge**: Create a plot showing values above the mean (as we did the plot showing elevation above a value...)."
   ]
  },
  {
   "cell_type": "code",
   "execution_count": null,
   "metadata": {},
   "outputs": [],
   "source": [
    "#12. Create a plot showing values above the mean\n"
   ]
  }
 ],
 "metadata": {
  "kernelspec": {
   "display_name": "Python 3",
   "language": "python",
   "name": "python3"
  },
  "language_info": {
   "codemirror_mode": {
    "name": "ipython",
    "version": 3
   },
   "file_extension": ".py",
   "mimetype": "text/x-python",
   "name": "python",
   "nbconvert_exporter": "python",
   "pygments_lexer": "ipython3",
   "version": "3.7.10"
  },
  "toc": {
   "base_numbering": 1,
   "nav_menu": {},
   "number_sections": true,
   "sideBar": true,
   "skip_h1_title": false,
   "title_cell": "Table of Contents",
   "title_sidebar": "Contents",
   "toc_cell": false,
   "toc_position": {},
   "toc_section_display": true,
   "toc_window_display": false
  }
 },
 "nbformat": 4,
 "nbformat_minor": 4
}
